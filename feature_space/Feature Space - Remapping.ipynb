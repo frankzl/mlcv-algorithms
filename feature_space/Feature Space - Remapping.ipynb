{
 "cells": [
  {
   "cell_type": "markdown",
   "metadata": {},
   "source": [
    "# Circle Coordinates"
   ]
  },
  {
   "cell_type": "code",
   "execution_count": 14,
   "metadata": {},
   "outputs": [],
   "source": [
    "import numpy as np\n",
    "import math"
   ]
  },
  {
   "cell_type": "code",
   "execution_count": 40,
   "metadata": {},
   "outputs": [],
   "source": [
    "x1 = np.arange(-.9,1,0.2)"
   ]
  },
  {
   "cell_type": "code",
   "execution_count": 57,
   "metadata": {},
   "outputs": [],
   "source": [
    "circle_top = np.vectorize(lambda x: math.sqrt(1-x**2))\n",
    "circle_bottom = np.vectorize(lambda x: -1*math.sqrt(1-x**2))"
   ]
  },
  {
   "cell_type": "code",
   "execution_count": 86,
   "metadata": {},
   "outputs": [],
   "source": [
    "o_x2 = circle_top(x1[5:])\n",
    "x_x2 = circle_top(x1[:5])\n",
    "\n",
    "o_b_x2 = circle_bottom(x1[:5])\n",
    "x_b_x2 = circle_bottom(x1[5:])\n",
    "\n",
    "o_x2 = np.concatenate((o_b_x2, o_x2))\n",
    "x_x2 = np.concatenate((x_x2, x_b_x2))"
   ]
  },
  {
   "cell_type": "code",
   "execution_count": 83,
   "metadata": {},
   "outputs": [
    {
     "data": {
      "text/plain": [
       "array([-0.43588989, -0.71414284, -0.8660254 , -0.9539392 , -0.99498744,\n",
       "        0.99498744,  0.9539392 ,  0.8660254 ,  0.71414284,  0.43588989])"
      ]
     },
     "execution_count": 83,
     "metadata": {},
     "output_type": "execute_result"
    }
   ],
   "source": [
    "o_x2"
   ]
  },
  {
   "cell_type": "code",
   "execution_count": 84,
   "metadata": {},
   "outputs": [],
   "source": [
    "from pylab import *\n",
    "import matplotlib.pyplot as plt\n"
   ]
  },
  {
   "cell_type": "code",
   "execution_count": 122,
   "metadata": {},
   "outputs": [
    {
     "data": {
      "image/png": "[encoded data removed]",
      "text/plain": [
       "<Figure size 432x288 with 1 Axes>"
      ]
     },
     "metadata": {
      "needs_background": "light"
     },
     "output_type": "display_data"
    }
   ],
   "source": [
    "figure()\n",
    "plt.axis('equal')\n",
    "plt.plot(x1, o_x2, 'o', color='red')\n",
    "plt.plot(x1, x_x2, 'x', color='blue')\n",
    "\n",
    "#plt.plot(x1[:5], o_b_x2, 'o', color='blue')\n",
    "#plt.plot(x1[5:], x_b_x2, 'o', color='red')\n",
    "\n",
    "plt.xlabel('x')\n",
    "plt.ylabel('y')\n",
    "plt.title('title')\n",
    "plt.show()"
   ]
  },
  {
   "cell_type": "markdown",
   "metadata": {},
   "source": [
    "# Remapping feature space"
   ]
  },
  {
   "cell_type": "code",
   "execution_count": 123,
   "metadata": {},
   "outputs": [],
   "source": [
    "phi = np.vectorize(lambda x,y: x+y)\n",
    "\n",
    "o_data = np.array(list(zip(x1,o_x2)))\n",
    "x_data = np.array(list(zip(x1,x_x2)))"
   ]
  },
  {
   "cell_type": "code",
   "execution_count": 124,
   "metadata": {},
   "outputs": [],
   "source": [
    "o_remapped_x2 = []\n",
    "\n",
    "for i in o_data:\n",
    "    o_remapped_x2.append((i[0] + i[1])**2)"
   ]
  },
  {
   "cell_type": "code",
   "execution_count": 125,
   "metadata": {},
   "outputs": [
    {
     "data": {
      "text/plain": [
       "[1.7846018098373213,\n",
       " 1.9997999799959991,\n",
       " 1.8660254037844386,\n",
       " 1.5723635208501676,\n",
       " 1.1989974874213234,\n",
       " 1.1989974874213249,\n",
       " 1.5723635208501681,\n",
       " 1.866025403784439,\n",
       " 1.9997999799959991,\n",
       " 1.7846018098373195]"
      ]
     },
     "execution_count": 125,
     "metadata": {},
     "output_type": "execute_result"
    }
   ],
   "source": [
    "o_remapped_x2"
   ]
  },
  {
   "cell_type": "code",
   "execution_count": 126,
   "metadata": {},
   "outputs": [
    {
     "data": {
      "text/plain": [
       "[0.21539819016267886,\n",
       " 0.00020002000400100086,\n",
       " 0.13397459621556149,\n",
       " 0.42763647914983299,\n",
       " 0.8010025125786765,\n",
       " 0.80100251257867505,\n",
       " 0.42763647914983199,\n",
       " 0.13397459621556099,\n",
       " 0.00020002000400097259,\n",
       " 0.21539819016268077]"
      ]
     },
     "execution_count": 126,
     "metadata": {},
     "output_type": "execute_result"
    }
   ],
   "source": [
    "x_remapped_x2 = []\n",
    "\n",
    "for i in x_data:\n",
    "    x_remapped_x2.append((i[0] + i[1])**2)\n",
    "\n",
    "x_remapped_x2"
   ]
  },
  {
   "cell_type": "code",
   "execution_count": 127,
   "metadata": {},
   "outputs": [
    {
     "data": {
      "image/png": "[encoded data removed]",
      "text/plain": [
       "<Figure size 432x288 with 1 Axes>"
      ]
     },
     "metadata": {
      "needs_background": "light"
     },
     "output_type": "display_data"
    }
   ],
   "source": [
    "figure()\n",
    "plt.axis('equal')\n",
    "plt.plot(x1, o_remapped_x2, 'o', color='red')\n",
    "plt.plot(x1, x_remapped_x2, 'x', color='blue')\n",
    "\n",
    "#plt.plot(x1[:5], o_b_x2, 'o', color='blue')\n",
    "#plt.plot(x1[5:], x_b_x2, 'o', color='red')\n",
    "\n",
    "plt.xlabel('x')\n",
    "plt.ylabel('y')\n",
    "plt.title('title')\n",
    "plt.show()"
   ]
  },
  {
   "cell_type": "code",
   "execution_count": null,
   "metadata": {},
   "outputs": [],
   "source": []
  },
  {
   "cell_type": "code",
   "execution_count": null,
   "metadata": {},
   "outputs": [],
   "source": []
  }
 ],
 "metadata": {
  "kernelspec": {
   "display_name": "Python 3",
   "language": "python",
   "name": "python3"
  },
  "language_info": {
   "codemirror_mode": {
    "name": "ipython",
    "version": 3
   },
   "file_extension": ".py",
   "mimetype": "text/x-python",
   "name": "python",
   "nbconvert_exporter": "python",
   "pygments_lexer": "ipython3",
   "version": "3.5.2"
  }
 },
 "nbformat": 4,
 "nbformat_minor": 2
}
