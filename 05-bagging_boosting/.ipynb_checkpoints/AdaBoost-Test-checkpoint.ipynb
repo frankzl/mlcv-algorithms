{
 "cells": [
  {
   "cell_type": "markdown",
   "metadata": {},
   "source": [
    "# Adaboost\n",
    "\n",
    "## Setup"
   ]
  },
  {
   "cell_type": "code",
   "execution_count": 7,
   "metadata": {},
   "outputs": [],
   "source": [
    "import numpy as np\n",
    "from decisionstump import DecisionStump\n",
    "from math import ceil\n",
    "import random"
   ]
  },
  {
   "cell_type": "code",
   "execution_count": 8,
   "metadata": {},
   "outputs": [],
   "source": [
    "def split_dataset(targets, ratio):\n",
    "    n = len(targets)\n",
    "    labels = list(set(targets))\n",
    "    splitting = np.zeros(n, dtype=bool)\n",
    "    for label in labels:\n",
    "        idx = [i for i,t in enumerate(targets) if t==label]\n",
    "        num_left = ceil(len(idx) * ratio)\n",
    "        idx_left = random.sample(idx, num_left)\n",
    "        splitting[idx_left] = True\n",
    "    return splitting\n",
    "\n",
    "X = np.loadtxt('banknote_auth_data.csv', delimiter=',')\n",
    "Y = np.loadtxt('banknote_auth_labels.csv', dtype=str)\n",
    "\n",
    "# Map labels to -1 or +1\n",
    "labels = list(set(Y))\n",
    "Y = np.array([-1 if y==labels[0] else 1 for y in Y])\n",
    "\n",
    "# Creating training and testing sets\n",
    "training_ratio = .1\n",
    "n = len(Y)\n",
    "perm = np.random.permutation(n)\n",
    "X, Y = X[perm, :], Y[perm]\n",
    "idx_train = split_dataset(Y, training_ratio)\n",
    "\n",
    "## Adaboost\n",
    "max_num_weak_learners = 40"
   ]
  },
  {
   "cell_type": "markdown",
   "metadata": {},
   "source": [
    "## Train Classifiers"
   ]
  },
  {
   "cell_type": "code",
   "execution_count": null,
   "metadata": {},
   "outputs": [],
   "source": [
    "train_error = [np.inf]\n",
    "test_error = [np.inf]\n",
    "model = "
   ]
  }
 ],
 "metadata": {
  "kernelspec": {
   "display_name": "Python 3",
   "language": "python",
   "name": "python3"
  },
  "language_info": {
   "codemirror_mode": {
    "name": "ipython",
    "version": 3
   },
   "file_extension": ".py",
   "mimetype": "text/x-python",
   "name": "python",
   "nbconvert_exporter": "python",
   "pygments_lexer": "ipython3",
   "version": "3.5.2"
  }
 },
 "nbformat": 4,
 "nbformat_minor": 2
}
